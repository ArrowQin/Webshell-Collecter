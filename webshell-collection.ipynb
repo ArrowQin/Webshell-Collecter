{
 "nbformat": 4,
 "nbformat_minor": 2,
 "metadata": {
  "language_info": {
   "name": "python",
   "codemirror_mode": {
    "name": "ipython",
    "version": 3
   },
   "version": "3.6.8"
  },
  "orig_nbformat": 2,
  "file_extension": ".py",
  "mimetype": "text/x-python",
  "name": "python",
  "npconvert_exporter": "python",
  "pygments_lexer": "ipython3",
  "version": 3
 },
 "cells": [
  {
   "cell_type": "code",
   "execution_count": null,
   "metadata": {},
   "outputs": [],
   "source": []
  },
  {
   "cell_type": "markdown",
   "metadata": {},
   "outputs": [],
   "source": [
    "# Webshell自动收集器\n",
    "- 作者：ArrowQin\n",
    "- 更新时间：2019.11.27\n",
    "---\n",
    "## 功能说明\n",
    "1. Github上webshell项目代码的自动更新\n",
    "2. webshell代码重复检测\n",
    "3. webshell静态特征提取\n",
    "4. 本地webshell存储"
   ]
  },
  {
   "cell_type": "markdown",
   "metadata": {},
   "outputs": [],
   "source": [
    "## 一、导入相关的包"
   ]
  },
  {
   "cell_type": "code",
   "metadata": {},
   "outputs": [],
   "source": [
    "import requests\n",
    "import urllib3\n",
    "from urllib import request\n",
    "import zipfile\n",
    "import os\n",
    "import re\n",
    "import time\n",
    "import difflib\n",
    "import shutil\n",
    "import random\n",
    "\n"
   ]
  },
  {
   "cell_type": "markdown",
   "metadata": {},
   "outputs": [],
   "source": [
    "## 二、程序日志保存\n",
    "1. error_log：程序错误日志\n",
    "2. run_log：程序运行日志"
   ]
  },
  {
   "cell_type": "code",
   "metadata": {},
   "outputs": [],
   "source": [
    "def error_log(information):\n",
    "    print(information)\n",
    "    run_time = time.strftime(\"%Y-%m-%d %H:%M:%S\", time.localtime())\n",
    "    with open(time.strftime(\"%Y-%m-%d\")+\"errorlog.txt\",\"a+\",encoding='utf-8') as file:\n",
    "        information = run_time + \"  \" + information + \"\\n\"\n",
    "        file.writelines(information)\n",
    "def run_log(information):\n",
    "    print(information)\n",
    "    run_time = time.strftime(\"%Y-%m-%d %H:%M:%S\", time.localtime())\n",
    "    with open(time.strftime(\"%Y-%m-%d\")+\"runlog.txt\",\"a+\",encoding='utf-8') as file:\n",
    "        information = run_time + \"  \" + information + \"\\n\"\n",
    "        file.writelines(information)"
   ]
  },
  {
   "cell_type": "markdown",
   "metadata": {},
   "outputs": [],
   "source": [
    "## 三、程序初始化"
   ]
  },
  {
   "cell_type": "code",
   "metadata": {},
   "outputs": [],
   "source": [
    "def initialize():\n",
    "    # 1.创建文件夹\n",
    "    foldernames=['Webshell-code','Webshell-code-temp','Webshell-feature','Webshell-storage','Zip']\n",
    "    for foldername in foldernames:\n",
    "        if not os.path.exists(foldername):\n",
    "            os.makedirs(foldername)\n",
    "            print('创建路径:',foldername)\n",
    "# initialize()"
   ]
  },
  {
   "cell_type": "markdown",
   "metadata": {},
   "outputs": [],
   "source": [
    "## 四、从Github仓库下载Webshell"
   ]
  },
  {
   "cell_type": "code",
   "metadata": {},
   "outputs": [],
   "source": [
    "# 下载github仓库zip压缩包到ZIP文件夹\n",
    "def download_zip_from_github(url,save_path='./Zip/'):\n",
    "    file_name = url.split('/')[-1]\n",
    "    response = requests.get(url)\n",
    "    content = response.text\n",
    "    btn = content.split('btn btn-outline get-repo-btn js-anon-download-zip-link ')[1]\n",
    "    zip_url = 'https://github.com' + btn.split('href=\"')[1].split('\"')[0].strip()\n",
    "    def reporthook(down,block,size): #当前传输的块数,块的大小,总数据大小\n",
    "        #显示下载进度\n",
    "        per = 100.0 * down * block / size\n",
    "        down_byte = down * block\n",
    "        down_KB = down_byte / 1024\n",
    "        down_MB = down_KB / 1024\n",
    "        # print(down,block,size)  #当无法得到size时，size=-1，下载进度出错，为正常现象\n",
    "        if per > 100:\n",
    "            per = 100\n",
    "        if size != -1:\n",
    "            print(url,'已下载:','%.2f%%'%per)\n",
    "        else:\n",
    "            if down_MB > 1:\n",
    "                print(url,'已下载:',down_MB,\"MB\")\n",
    "            else:\n",
    "                if down_KB > 1:\n",
    "                    print(url,'已下载:',down_KB,'KB')\n",
    "                else:\n",
    "                    print(url,'已下载:',down_byte,'B')\n",
    "    try:\n",
    "        request.urlretrieve(zip_url, save_path + file_name + '.zip',reporthook=reporthook)\n",
    "    except:\n",
    "        try:\n",
    "            with open(save_path + file_name + '.zip', 'wb') as code:\n",
    "                code.write(requests.get(zip_url).content)\n",
    "        except:\n",
    "            try:\n",
    "                http = urllib3.PoolManager()\n",
    "                r = http.request('GET', zip_url)\n",
    "                with open(save_path + file_name + '.zip', 'wb') as code:\n",
    "                    code.write(r.data)\n",
    "            except Exception as e:\n",
    "                error_log(str(e))\n",
    "                run_log(url + ' 下载失败')\n",
    "                return 0\n",
    "    run_log(url + ' 下载完成')\n",
    "\n",
    "# 解压ZIP压缩包到Webshell-code-temp文件夹\n",
    "def un_zip(un_zip_filename,path='./Webshell-code-temp'):\n",
    "    zip_file = zipfile.ZipFile(un_zip_filename)\n",
    "    zip_file.extractall(path=path)\n",
    "    run_log(un_zip_filename+'已解压')"
   ]
  },
  {
   "cell_type": "markdown",
   "metadata": {},
   "outputs": [],
   "source": [
    "## 五、判断github仓库是否更新\n",
    "1. 与本地仓库webshell-code文件夹内容进行比较\n",
    "2. 将更新的文件路径添加到列表update_list"
   ]
  },
  {
   "cell_type": "code",
   "metadata": {},
   "outputs": [],
   "source": [
    "def contrast_dir(foldername):\n",
    "    update_list=[]\n",
    "    dir_old = './Webshell-code/'+foldername\n",
    "    dir_temp = './Webshell-code-temp/'+foldername\n",
    "    for dirpath, dirnames, filenames in os.walk(dir_temp):\n",
    "        for filename in filenames:\n",
    "            pathname1 = os.path.join(dirpath, filename) # temp文件的路径\n",
    "            pathname2 = re.sub('-temp','',pathname1,1) # 对应仓库中的文件路径\n",
    "            if os.path.exists(pathname2):\n",
    "                pass\n",
    "            else:\n",
    "                run_log('发现更新的文件:'+pathname1)\n",
    "                update_list.append(pathname1)\n",
    "    if len(update_list) == 0:\n",
    "        run_log('没有文件更新:'+dir_temp)\n",
    "    return update_list"
   ]
  },
  {
   "cell_type": "markdown",
   "metadata": {},
   "outputs": [],
   "source": [
    "## 六、webshell相似度比较\n",
    "1. 使用python自带的difflib.SequenceMatcher方法比较两个文件的相似度\n",
    "2. 将更新的webshell与本地webshell-storage文件夹下没有重复webshell进行相似度比较\n",
    "3. 如果相似度>0.95,则认为storge中以及存在相似的webshell,否则将webshell加入到storage中\n",
    "4. 并将这些不同的webshell的路径，通过列表different_list返回，并存储到different_webshell.txt"
   ]
  },
  {
   "cell_type": "code",
   "metadata": {},
   "outputs": [],
   "source": [
    "def similarity_detect(update_list):\n",
    "    different_list = []\n",
    "    for update_file_path in update_list:\n",
    "        try:\n",
    "            with open(update_file_path,'r',encoding='utf-8') as file:\n",
    "                new_file=file.read()\n",
    "        except:\n",
    "            try:\n",
    "                with open(update_file_path,'r',encoding='ISO-8859-2') as file:\n",
    "                    new_file=file.read()\n",
    "            except Exception as e:\n",
    "                error_log(str(e))\n",
    "                print(e)          \n",
    "        dir_storage = './Webshell-storage/'\n",
    "        flag = 0 #flag=0不存在相似文件\n",
    "        for dirpath, dirnames, filenames in os.walk(dir_storage):\n",
    "            for filename in filenames:\n",
    "                storage_file_path = os.path.join(dirpath, filename)\n",
    "                try:\n",
    "                    with open(storage_file_path,'r',encoding='utf-8') as file:\n",
    "                        storage_file=file.read()\n",
    "                except:\n",
    "                    try:\n",
    "                        with open(storage_file_path,'r',encoding='ISO-8859-2') as file:\n",
    "                            storage_file=file.read()\n",
    "                    except Exception as e:\n",
    "                        error_log(str(e))\n",
    "                        print(e)     \n",
    "                similarity = difflib.SequenceMatcher(None, new_file, storage_file).quick_ratio()\n",
    "                # print('文件差异度：',round(similarity,4),'\\tupdate-file:',update_file_path,'\\tstorage-file:',storage_file_path)\n",
    "                if similarity > 0.95:\n",
    "                    print('存在相似文件','update-file:',update_file_path,'\\tstorage-file:',storage_file_path,'文件差异度：',round(similarity,4))\n",
    "                    flag = 1 #flag=1 存在相似文件\n",
    "                    break\n",
    "        if flag == 0: #不存在相似文件\n",
    "            src = update_file_path\n",
    "            dst = dir_storage + os.path.basename(update_file_path)\n",
    "            shutil.copyfile(src, dst)\n",
    "            different_list.append(update_file_path)\n",
    "            run_log('发现新webshell，复制文件到webshell-storage: '+update_file_path)\n",
    "    \n",
    "    with open(\"different_webshell.txt\",'a+',encoding='utf-8') as file:\n",
    "        for d in different_list:        \n",
    "            d+='\\n'\n",
    "            file.writelines(d)\n",
    "    return different_list"
   ]
  },
  {
   "cell_type": "markdown",
   "metadata": {},
   "outputs": [],
   "source": [
    "## 七、提取静态特征\n",
    "1. 目前只提取id=与form特征\n",
    "2. 对于重名的webshell,修改文件名为 原文件名-随机0-10数字"
   ]
  },
  {
   "cell_type": "code",
   "metadata": {},
   "outputs": [],
   "source": [
    "def get_feature(files):\n",
    "    if files == None:\n",
    "        run_log(\"不存在新的Webshell，无需提取特征\")\n",
    "        return 0\n",
    "    for filename in files:\n",
    "        features=[]\n",
    "        try:\n",
    "            with open(filename,'r',encoding='utf-8') as file:\n",
    "                lines = file.readlines()\n",
    "        except:\n",
    "            try:\n",
    "                with open(filename,'r',encoding='ISO-8859-1') as file:\n",
    "                    lines = file.readlines()\n",
    "            except Exception as e:\n",
    "                error_log(str(e))\n",
    "                error_log(\"get_feature()无法读取文件:\"+filename)\n",
    "                continue\n",
    "        for line in lines:\n",
    "            if 'id=' in line or 'form ' in line:\n",
    "                # print(re.sub(\" \",\"\",line))\n",
    "                for l in re.findall(\"<.*?>\",line):\n",
    "                    if len(l) > 10: #去除标签\n",
    "                        features.append(re.sub(\"\\\\\\\\\",\"\",l))\n",
    "        if len(features) != 0:\n",
    "            features = [feature+'\\n' for feature in features]\n",
    "            save_path ='./Webshell-feature/'+ os.path.basename(filename)\n",
    "            while os.path.exists(save_path+'.txt'):  #处理重名\n",
    "                save_path+='-'\n",
    "                save_path+=str(random.randint(1,10))\n",
    "            with open(save_path+'.txt','w',encoding='utf-8') as file:\n",
    "                file.writelines(features)\n",
    "                run_log(\"update feature:\"+save_path)"
   ]
  },
  {
   "cell_type": "markdown",
   "metadata": {},
   "outputs": [],
   "source": [
    "# 八、更新本地webshell仓库\n",
    "1. 更新update_list中的文件到webshell-code\n",
    "2. 删除webshell-code-temp"
   ]
  },
  {
   "cell_type": "code",
   "metadata": {},
   "outputs": [],
   "source": [
    "def update_code(update_list):\n",
    "    try:\n",
    "        # 将更新的webshell覆盖到webshell-code\n",
    "        for update_file_path in update_list:\n",
    "            dst = re.sub('-temp','',update_file_path,1)\n",
    "            dir_name = os.path.dirname(dst)\n",
    "            if not os.path.exists(dir_name):\n",
    "                os.makedirs(dir_name)\n",
    "                print('创建路径:',dir_name)\n",
    "            src = update_file_path\n",
    "            shutil.copyfile(src, dst)\n",
    "            run_log('更新webshell到本地: '+update_file_path)\n",
    "\n",
    "        # 删除Webshell-code-temp全部内容\n",
    "        if os.path.exists('./Webshell-code-temp/'):\n",
    "            shutil.rmtree('./Webshell-code-temp/',True)\n",
    "            print('已删除：./Webshell-code-temp/')\n",
    "            os.mkdir('Webshell-code-temp')\n",
    "\n",
    "    except Exception as e:\n",
    "        error_log('更新wenshell-code出现错误：'+str(e))"
   ]
  },
  {
   "cell_type": "markdown",
   "metadata": {},
   "outputs": [],
   "source": [
    "# 九、运行程序  \n",
    "说明：目前收录github上5个项目的webshell源码文件  \n",
    "'https://github.com/tennc/webshell',  \n",
    "'https://github.com/ysrc/webshell-sample',  \n",
    "'https://github.com/JohnTroony/php-webshells',  \n",
    "'https://github.com/xl7dev/WebShell'  \n",
    "'https://github.com/b374k/b374k'  "
   ]
  },
  {
   "cell_type": "code",
   "metadata": {},
   "outputs": [],
   "source": [
    "def dataprocess(url):\n",
    "    download_zip_from_github(url) #从github上下载对应项目的zip文件\n",
    "    un_zip(un_zip_filename='./Zip/'+ url.split('/')[-1] +'.zip') #对zip文件进行解压，存储到webshell-code-temp目录下\n",
    "    update_list = contrast_dir(foldername=url.split('/')[-1]+'-master') #将webshell-code-temp目录下的代码和webshell-code下的代码进行比较，找出更新的代码\n",
    "    different_list = similarity_detect(update_list) # 输入更新的代码，与webshell-storage中的代码进行相似度比较\n",
    "    ### print(\"different_list:\",different_list)\n",
    "    get_feature(different_list) #获取可能的特征,目前只有id和form\n",
    "    update_code(update_list) # 更新webshell-code,删除webshell-code-temp\n",
    "\n",
    "if __name__ == \"__main__\":\n",
    "    initialize() #程序初始化\n",
    "    webshell_git_repository_url = [\n",
    "        'https://github.com/tennc/webshell',\n",
    "        'https://github.com/ysrc/webshell-sample',\n",
    "        'https://github.com/JohnTroony/php-webshells',\n",
    "        'https://github.com/xl7dev/WebShell'\n",
    "        'https://github.com/b374k/b374k'\n",
    "    ]\n",
    "    for url in webshell_git_repository_url:\n",
    "        dataprocess(url)"
   ]
  },
  {
   "cell_type": "markdown",
   "metadata": {},
   "outputs": [],
   "source": [
    "## 十、提取webshell特征  \n",
    "1. 输入：webshell路径的txt文件\n"
   ]
  },
  {
   "cell_type": "code",
   "metadata": {},
   "outputs": [],
   "source": [
    "def get_feature_from_file(filename):\n",
    "    with open(filename,'r',encoding='utf-8') as file:\n",
    "        different_list = file.readlines()\n",
    "    different_list = [list[:-1] for list in different_list]\n",
    "    get_feature(different_list)\n",
    "    # 导入成功后删除文件中的内容\n",
    "    os.remove(filename)\n",
    "    print(filename,\"已删除\")\n",
    "\n",
    "\n",
    "# get_feature_from_file(\"different_webshell.txt\") #导入失败使用"
   ]
  }
 ]
}